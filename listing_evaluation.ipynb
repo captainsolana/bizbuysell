{
 "nbformat": 4,
 "nbformat_minor": 2,
 "metadata": {
  "language_info": {
   "name": "python",
   "codemirror_mode": {
    "name": "ipython",
    "version": 3
   },
   "version": "3.7.3"
  },
  "orig_nbformat": 2,
  "file_extension": ".py",
  "mimetype": "text/x-python",
  "name": "python",
  "npconvert_exporter": "python",
  "pygments_lexer": "ipython3",
  "version": 3
 },
 "cells": [
  {
   "cell_type": "code",
   "execution_count": 1,
   "metadata": {},
   "outputs": [],
   "source": [
    "import pandas as pd"
   ]
  },
  {
   "cell_type": "code",
   "execution_count": 3,
   "metadata": {},
   "outputs": [],
   "source": [
    "class Serp():\n",
    "    def __init__(self, *, url, name, formdata):\n",
    "        self.name = name\n",
    "        self.firstpage_url = url\n",
    "        self.formdata = formdata\n",
    "        self.response_text = \"\"\n",
    "\n",
    "    def __repr__(self):\n",
    "        return self.name\n",
    "\n",
    "\n",
    "class Listing():\n",
    "    def __init__(self, custom_name, **entries):\n",
    "        self.__dict__.update(entries)\n",
    "        self.custom_name = custom_name\n",
    "        self.date_accessed = date.today()\n",
    "\n",
    "    def __hash__(self):\n",
    "        return hash(self.custom_name)\n",
    "\n",
    "    def __eq__(self, other):\n",
    "        return self.custom_name == other.custom_name\n",
    "\n",
    "    def __repr__(self):\n",
    "        return self.custom_name"
   ]
  },
  {
   "cell_type": "code",
   "execution_count": 7,
   "metadata": {},
   "outputs": [],
   "source": [
    "object_list = pd.read_pickle(\"/Users/work/Dropbox/Projects/Working Data/bizbuysell/listings20191221_parsed.pkl\")"
   ]
  },
  {
   "cell_type": "code",
   "execution_count": 57,
   "metadata": {},
   "outputs": [
    {
     "data": {
      "text/plain": "[{'Location': 'Craig, AK',\n  'Employees': '-2',\n  'Facilities': '1) \\tFloat 1 with the house and processor $40,000 \\t\\r\\n\\t\\r\\n2)\\tFloat 2, work float $30,000\\r\\n\\t \\t\\r\\n3)\\t7 Growout rafts avg. value each $1500    $10,500\\r\\n\\r\\n4)\\tTumbler raft with 6 tumblers $4000\\r\\n\\r\\n5) \\t24” tumbler $2000\\r\\n6) \\tSpat Tumbler $4000\\r\\n\\r\\n7)   Work float $2000\\r\\n\\r\\n8) \\t2000 trays $24,000\\r\\n\\r\\n9) \\tTray slings 210 $2,520\\r\\n10) \\tAnchors and mooring lines $4,500\\r\\n11)\\t Blue boat and 90HP Yamaha motor, radio and gps $5,000\\r\\n12) \\tOysters of various sizes with values according to USDA $152,000\\r\\n13)\\tNew (August 2018) Yamaha 4500 generator $3400\\r\\n                     $28',\n  'Competition': 'No where to go but UP!!',\n  'Growth & Expansion': 'Its up to you. There is plenty of room in the 6.9 acres of tide land lease for more infrastructure and product. There is also more area to lease in one finds it necessary. I sell over 50,000 oysters a year by myself a well run operation with a little more infrastructure could do 500,000 a year. I sell my oysters for $1 dollar each fob the local airport and charge for the box!',\n  'Support & Training': 'I will help as much as I can. I would love to stay a part of the operation and am obviously quite up to speed on all aspects of it',\n  'Reason for Selling': '68 years old an body is giving up',\n  'Business Website': 'http://oysteralaska.com'}]"
     },
     "execution_count": 57,
     "metadata": {},
     "output_type": "execute_result"
    }
   ],
   "source": [
    "[obj.details for obj in object_list[:1]]"
   ]
  },
  {
   "cell_type": "code",
   "execution_count": 59,
   "metadata": {},
   "outputs": [
    {
     "data": {
      "text/html": "<div>\n<style scoped>\n    .dataframe tbody tr th:only-of-type {\n        vertical-align: middle;\n    }\n\n    .dataframe tbody tr th {\n        vertical-align: top;\n    }\n\n    .dataframe thead th {\n        text-align: right;\n    }\n</style>\n<table border=\"1\" class=\"dataframe\">\n  <thead>\n    <tr style=\"text-align: right;\">\n      <th></th>\n      <th>Asking Price</th>\n      <th>Cash Flow</th>\n      <th>EBITDA</th>\n      <th>Employees</th>\n      <th>Employess</th>\n      <th>Established</th>\n      <th>FF&amp;E</th>\n      <th>Gross Revenue</th>\n      <th>Inventory</th>\n      <th>Multiple</th>\n      <th>Real Estate</th>\n      <th>Rent</th>\n      <th>allInPrice</th>\n      <th>notIncluded</th>\n      <th>url</th>\n    </tr>\n  </thead>\n  <tbody>\n    <tr>\n      <th>0</th>\n      <td>N/A</td>\n      <td>N/A</td>\n      <td>N/A</td>\n      <td>-2</td>\n      <td>NaN</td>\n      <td>2010</td>\n      <td>N/A</td>\n      <td>N/A</td>\n      <td>N/A</td>\n      <td>N/A</td>\n      <td>NaN</td>\n      <td>NaN</td>\n      <td>N/A</td>\n      <td>[]</td>\n      <td>https://www.bizbuysell.com/Business-Opportunit...</td>\n    </tr>\n    <tr>\n      <th>1</th>\n      <td>52000</td>\n      <td>N/A</td>\n      <td>N/A</td>\n      <td>1</td>\n      <td>NaN</td>\n      <td>2002</td>\n      <td>N/A</td>\n      <td>N/A</td>\n      <td>N/A</td>\n      <td>N/A</td>\n      <td>NaN</td>\n      <td>NaN</td>\n      <td>52000</td>\n      <td>[]</td>\n      <td>https://www.bizbuysell.com/Business-Opportunit...</td>\n    </tr>\n    <tr>\n      <th>2</th>\n      <td>30000</td>\n      <td>N/A</td>\n      <td>N/A</td>\n      <td>NaN</td>\n      <td>Not Present</td>\n      <td>N/A</td>\n      <td>N/A</td>\n      <td>N/A</td>\n      <td>N/A</td>\n      <td>N/A</td>\n      <td>NaN</td>\n      <td>NaN</td>\n      <td>30000</td>\n      <td>[]</td>\n      <td>https://www.bizbuysell.com/Business-Opportunit...</td>\n    </tr>\n    <tr>\n      <th>3</th>\n      <td>3620000</td>\n      <td>984713</td>\n      <td>N/A</td>\n      <td>17</td>\n      <td>NaN</td>\n      <td>2013</td>\n      <td>240150</td>\n      <td>4308226</td>\n      <td>100000</td>\n      <td>3.6762</td>\n      <td>NaN</td>\n      <td>7000.0</td>\n      <td>3620000</td>\n      <td>[]</td>\n      <td>https://www.bizbuysell.com/Business-Opportunit...</td>\n    </tr>\n    <tr>\n      <th>4</th>\n      <td>90000</td>\n      <td>N/A</td>\n      <td>N/A</td>\n      <td>1</td>\n      <td>NaN</td>\n      <td>N/A</td>\n      <td>N/A</td>\n      <td>N/A</td>\n      <td>N/A</td>\n      <td>N/A</td>\n      <td>NaN</td>\n      <td>NaN</td>\n      <td>90000</td>\n      <td>[]</td>\n      <td>https://www.bizbuysell.com/Business-Opportunit...</td>\n    </tr>\n  </tbody>\n</table>\n</div>",
      "text/plain": "  Asking Price Cash Flow EBITDA Employees    Employess Established    FF&E  \\\n0          N/A       N/A    N/A        -2          NaN        2010     N/A   \n1        52000       N/A    N/A         1          NaN        2002     N/A   \n2        30000       N/A    N/A       NaN  Not Present         N/A     N/A   \n3      3620000    984713    N/A        17          NaN        2013  240150   \n4        90000       N/A    N/A         1          NaN         N/A     N/A   \n\n  Gross Revenue Inventory Multiple Real Estate    Rent allInPrice notIncluded  \\\n0           N/A       N/A      N/A         NaN     NaN        N/A          []   \n1           N/A       N/A      N/A         NaN     NaN      52000          []   \n2           N/A       N/A      N/A         NaN     NaN      30000          []   \n3       4308226    100000   3.6762         NaN  7000.0    3620000          []   \n4           N/A       N/A      N/A         NaN     NaN      90000          []   \n\n                                                 url  \n0  https://www.bizbuysell.com/Business-Opportunit...  \n1  https://www.bizbuysell.com/Business-Opportunit...  \n2  https://www.bizbuysell.com/Business-Opportunit...  \n3  https://www.bizbuysell.com/Business-Opportunit...  \n4  https://www.bizbuysell.com/Business-Opportunit...  "
     },
     "execution_count": 59,
     "metadata": {},
     "output_type": "execute_result"
    }
   ],
   "source": [
    "dicts_list = []\n",
    "for obj in object_list:\n",
    "     obj.financials[\"url\"] = obj.url\n",
    "     if hasattr(obj, \"details\"):\n",
    "        employees_present = \"Employees\" in obj.details\n",
    "        if employees_present:\n",
    "            obj.financials[\"Employees\"] = obj.details[\"Employees\"]\n",
    "        else:\n",
    "            obj.financials[\"Employess\"] = \"Not Present\"\n",
    "        dicts_list.append(obj.financials)\n",
    "\n",
    "df = pd.DataFrame(dicts_list)\n",
    "df.head()"
   ]
  },
  {
   "cell_type": "code",
   "execution_count": 61,
   "metadata": {},
   "outputs": [],
   "source": [
    "# df.to_csv(\"/Users/work/Dropbox/Projects/Working Data/bizbuysell/listings_20191223.csv\")"
   ]
  },
  {
   "cell_type": "code",
   "execution_count": 54,
   "metadata": {},
   "outputs": [
    {
     "data": {
      "text/html": "<div>\n<style scoped>\n    .dataframe tbody tr th:only-of-type {\n        vertical-align: middle;\n    }\n\n    .dataframe tbody tr th {\n        vertical-align: top;\n    }\n\n    .dataframe thead th {\n        text-align: right;\n    }\n</style>\n<table border=\"1\" class=\"dataframe\">\n  <thead>\n    <tr style=\"text-align: right;\">\n      <th></th>\n      <th>Asking Price</th>\n      <th>Cash Flow</th>\n      <th>EBITDA</th>\n      <th>Established</th>\n      <th>FF&amp;E</th>\n      <th>Gross Revenue</th>\n      <th>Inventory</th>\n      <th>Multiple</th>\n      <th>Real Estate</th>\n      <th>Rent</th>\n      <th>allInPrice</th>\n      <th>notIncluded</th>\n      <th>url</th>\n    </tr>\n  </thead>\n  <tbody>\n    <tr>\n      <th>3</th>\n      <td>3620000</td>\n      <td>984713</td>\n      <td>N/A</td>\n      <td>2013</td>\n      <td>240150</td>\n      <td>4308226</td>\n      <td>100000</td>\n      <td>3.6762</td>\n      <td>NaN</td>\n      <td>7000.0</td>\n      <td>3620000</td>\n      <td>[]</td>\n      <td>https://www.bizbuysell.com/Business-Opportunit...</td>\n    </tr>\n    <tr>\n      <th>7</th>\n      <td>125000</td>\n      <td>31922</td>\n      <td>N/A</td>\n      <td>N/A</td>\n      <td>25000</td>\n      <td>278600</td>\n      <td>5000</td>\n      <td>3.91579</td>\n      <td>NaN</td>\n      <td>NaN</td>\n      <td>125000</td>\n      <td>[]</td>\n      <td>https://www.bizbuysell.com/Business-Opportunit...</td>\n    </tr>\n    <tr>\n      <th>15</th>\n      <td>1100000</td>\n      <td>150000</td>\n      <td>150000</td>\n      <td>2005</td>\n      <td>319000</td>\n      <td>400000</td>\n      <td>10000</td>\n      <td>7.33333</td>\n      <td>800000</td>\n      <td>NaN</td>\n      <td>1100000</td>\n      <td>[]</td>\n      <td>https://www.bizbuysell.com/Business-Opportunit...</td>\n    </tr>\n    <tr>\n      <th>22</th>\n      <td>120000</td>\n      <td>65283</td>\n      <td>N/A</td>\n      <td>N/A</td>\n      <td>2500</td>\n      <td>101860</td>\n      <td>500</td>\n      <td>1.83815</td>\n      <td>NaN</td>\n      <td>NaN</td>\n      <td>120000</td>\n      <td>[]</td>\n      <td>https://www.bizbuysell.com/Business-Opportunit...</td>\n    </tr>\n    <tr>\n      <th>25</th>\n      <td>465000</td>\n      <td>107488</td>\n      <td>N/A</td>\n      <td>2015</td>\n      <td>5000</td>\n      <td>785986</td>\n      <td>2500</td>\n      <td>4.32606</td>\n      <td>NaN</td>\n      <td>2955.0</td>\n      <td>465000</td>\n      <td>[]</td>\n      <td>https://www.bizbuysell.com/Business-Opportunit...</td>\n    </tr>\n  </tbody>\n</table>\n</div>",
      "text/plain": "   Asking Price Cash Flow  EBITDA Established    FF&E Gross Revenue Inventory  \\\n3       3620000    984713     N/A        2013  240150       4308226    100000   \n7        125000     31922     N/A         N/A   25000        278600      5000   \n15      1100000    150000  150000        2005  319000        400000     10000   \n22       120000     65283     N/A         N/A    2500        101860       500   \n25       465000    107488     N/A        2015    5000        785986      2500   \n\n   Multiple Real Estate    Rent allInPrice notIncluded  \\\n3    3.6762         NaN  7000.0    3620000          []   \n7   3.91579         NaN     NaN     125000          []   \n15  7.33333      800000     NaN    1100000          []   \n22  1.83815         NaN     NaN     120000          []   \n25  4.32606         NaN  2955.0     465000          []   \n\n                                                  url  \n3   https://www.bizbuysell.com/Business-Opportunit...  \n7   https://www.bizbuysell.com/Business-Opportunit...  \n15  https://www.bizbuysell.com/Business-Opportunit...  \n22  https://www.bizbuysell.com/Business-Opportunit...  \n25  https://www.bizbuysell.com/Business-Opportunit...  "
     },
     "execution_count": 54,
     "metadata": {},
     "output_type": "execute_result"
    }
   ],
   "source": [
    "df_ints = df[(df[\"Multiple\"].apply(lambda x: type(x) == float)) & df[\"Cash Flow\"].apply(lambda x: type(x) == int)]\n",
    "df_ints.head()"
   ]
  },
  {
   "cell_type": "code",
   "execution_count": 55,
   "metadata": {},
   "outputs": [
    {
     "data": {
      "text/plain": "179"
     },
     "execution_count": 55,
     "metadata": {},
     "output_type": "execute_result"
    }
   ],
   "source": [
    "df_filtered = df_ints[(df_ints[\"Multiple\"] < 2) & (df_ints[\"Cash Flow\"] > 500000)]\n",
    "len(df_filtered)"
   ]
  }
 ]
}